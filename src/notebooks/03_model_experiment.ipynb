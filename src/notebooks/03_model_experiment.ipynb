{
 "cells": [
  {
   "cell_type": "code",
   "execution_count": null,
   "id": "4e9811fd",
   "metadata": {},
   "outputs": [],
   "source": [
    "import pandas as pd\n",
    "import matplotlib.pyplot as plt\n",
    "import numpy as np\n",
    "# import sklearn\n",
    "\n",
    "df = pd.read_csv('../../data/processed/engineered.csv')"
   ]
  },
  {
   "cell_type": "markdown",
   "id": "3ea79bd5",
   "metadata": {},
   "source": [
    "## Initial set of columns\n",
    "\n",
    "First I'm testing using all of the rolling average columns, and putting them in an XGBoost model"
   ]
  },
  {
   "cell_type": "code",
   "execution_count": null,
   "id": "367c102c",
   "metadata": {},
   "outputs": [],
   "source": [
    "features = [\n",
    "    'eFG_pct_avg_last_10', 'tov_rate_avg_last_10', 'oreb_pct_avg_last_10', 'ftr_avg_last_10',\n",
    "    'ortg_avg_last_10', 'drtg_avg_last_10', 'covered_avg_last_10', \n",
    "    'days_of_rest', 'home_team', 'opp_ortg_avg_last_10', 'opp_drtg_avg_last_10',\n",
    "]\n",
    "\n",
    "\n",
    "target = 'covered'\n",
    "\n",
    "df[features].shape"
   ]
  },
  {
   "cell_type": "markdown",
   "id": "7a23c6f5",
   "metadata": {},
   "source": [
    "## Baseline model\n",
    "\n",
    "Linear regression predicting spread for a game based on rolling averages of ppg"
   ]
  },
  {
   "cell_type": "code",
   "execution_count": null,
   "id": "479f7f97",
   "metadata": {},
   "outputs": [],
   "source": [
    "from sklearn.model_selection import TimeSeriesSplit\n",
    "\n",
    "X = df[features]\n",
    "y = df['covered']\n",
    "\n",
    "tscv = TimeSeriesSplit(n_splits=5)\n",
    "\n",
    "from xgboost import XGBClassifier\n",
    "from sklearn.metrics import roc_auc_score, accuracy_score\n",
    "\n",
    "xgb_params = {\n",
    "    'objective': 'binary:logistic',\n",
    "    'eval_metric': 'auc',\n",
    "    'n_estimators': 600,\n",
    "    'learning_rate': 0.05,\n",
    "    'max_depth': 6,\n",
    "    'min_child_weight': 4,\n",
    "    'subsample': 0.8,\n",
    "    'colsample_bytree': 0.8,\n",
    "    'gamma': 0.3,\n",
    "    'reg_lambda': 2.0,\n",
    "    'reg_alpha': 0.5,\n",
    "    'random_state': 42,\n",
    "}\n",
    "\n",
    "model = XGBClassifier(**xgb_params)\n",
    "\n",
    "from sklearn.metrics import roc_auc_score, confusion_matrix, classification_report\n",
    "\n",
    "for train_idx, test_idx in tscv.split(X):\n",
    "    X_train, X_test = X.iloc[train_idx], X.iloc[test_idx]\n",
    "    y_train, y_test = y.iloc[train_idx], y.iloc[test_idx]\n",
    "\n",
    "    model.fit(X_train, y_train)\n",
    "    preds = model.predict_proba(X_test)[:, 1]\n",
    "    \n",
    "    auc = roc_auc_score(y_test, preds)\n",
    "    acc = accuracy_score(y_test, (preds > 0.5).astype(int))\n",
    "    print(f\"AUC: {auc:.3f} | Accuracy: {acc:.3f}\")\n",
    "\n"
   ]
  },
  {
   "cell_type": "code",
   "execution_count": null,
   "id": "5cbf9811",
   "metadata": {},
   "outputs": [],
   "source": [
    "from xgboost import plot_importance\n",
    "\n",
    "plot_importance(model)\n",
    "plt.show()"
   ]
  },
  {
   "cell_type": "code",
   "execution_count": null,
   "id": "ac643dc8",
   "metadata": {},
   "outputs": [],
   "source": [
    "from sklearn.calibration import calibration_curve\n",
    "prob_true, prob_pred = calibration_curve(y_test, preds, n_bins=10)\n",
    "plt.plot(prob_pred, prob_true, marker='o')\n",
    "plt.xlabel('Predicted Probability')\n",
    "plt.ylabel('True Frequency')\n",
    "plt.title('Calibration Curve')\n",
    "plt.show()\n"
   ]
  },
  {
   "cell_type": "code",
   "execution_count": null,
   "id": "945f2e8c",
   "metadata": {},
   "outputs": [],
   "source": [
    "df.loc[test_idx, 'pred_prob'] = preds\n",
    "df.loc[test_idx, 'edge'] = df['pred_prob'] - 0.5  # edge vs implied 50/50 coin flip\n",
    "\n",
    "plt.hist(df['edge'], bins=50)"
   ]
  }
 ],
 "metadata": {
  "kernelspec": {
   "display_name": "Python 3",
   "language": "python",
   "name": "python3"
  },
  "language_info": {
   "codemirror_mode": {
    "name": "ipython",
    "version": 3
   },
   "file_extension": ".py",
   "mimetype": "text/x-python",
   "name": "python",
   "nbconvert_exporter": "python",
   "pygments_lexer": "ipython3",
   "version": "3.13.7"
  }
 },
 "nbformat": 4,
 "nbformat_minor": 5
}
